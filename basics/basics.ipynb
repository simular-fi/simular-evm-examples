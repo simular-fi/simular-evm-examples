{
 "cells": [
  {
   "cell_type": "markdown",
   "id": "298f8086-186a-416f-a57b-2fd3ab3d8f95",
   "metadata": {},
   "source": [
    "# Simular Basics\n",
    "This example demonstrates how to use Simular to deploy and interact with an Ethereum smart contract.\n",
    "\n",
    "**What we'll do:**\n",
    "- Create an instance of the EVM\n",
    "- Create an account to deploy the contract and transact\n",
    "- Deploy and interact with the contract\n",
    "\n",
    "We'll use a very simple contract: `Counter.sol` (source is available in this directory). It's sole purpose in life is to keep track of an incrementing value. The contract has 2 methods that can be called:  \n",
    "- `increment()`   adds one to the current state of the counter\n",
    "- `number() returns uint256` returns the current value of the counter\n",
    "\n",
    "You can find more examples and details on the API here: https://simular.readthedocs.io/en/latest/\n",
    "\n",
    "## Setup\n",
    "\n",
    "First, we'll import the EVM and a few helper functions from simular. Then, we'll load\n",
    "the ABI and bytecode information from the compiled contract.  `Counter.json` is the output\n",
    "from compiling our contract in [foundry](https://book.getfoundry.sh/). It contains 2 things we need: the ABI, or interface to the contract's methods, and the compiled bytecode of the contract."
   ]
  },
  {
   "cell_type": "code",
   "execution_count": 1,
   "id": "53785286-1cff-488e-8f4a-6bf4167700e1",
   "metadata": {},
   "outputs": [],
   "source": [
    "from simular import PyEvm, create_account, contract_from_raw_abi\n",
    "\n",
    "# Note: we read as a string. Simular handles parsing into JSON\n",
    "with open('./Counter.json') as f:\n",
    "    rawabi = f.read()"
   ]
  },
  {
   "cell_type": "markdown",
   "id": "22cce3fa-b572-4628-9fe6-1d4383e4fd8b",
   "metadata": {},
   "source": [
    "## Create the EVM and Account\n",
    "We always need an instance of the EVM. And for this example, we'll need a single Ethereum account\n",
    "to deploy the contract."
   ]
  },
  {
   "cell_type": "code",
   "execution_count": 2,
   "id": "31c60e2e-7a7c-4e93-858c-453694cf6ae6",
   "metadata": {},
   "outputs": [
    {
     "name": "stdout",
     "output_type": "stream",
     "text": [
      "deployers address: 0xe1ef4a53a7495843670a29d2d0da243a2554b0d6\n"
     ]
    }
   ],
   "source": [
    "evm = PyEvm()\n",
    "deployer = create_account(evm)\n",
    "print(f\"deployers address: {deployer}\")"
   ]
  },
  {
   "cell_type": "markdown",
   "id": "ed2f4aa6-9053-49a5-920f-3d3d1d34158a",
   "metadata": {},
   "source": [
    "## Contract\n",
    "Next, we create an instance of the Contract object.  It requires the `rawabi` information (from Counter.json above) and an instance of the EVM."
   ]
  },
  {
   "cell_type": "code",
   "execution_count": 3,
   "id": "fc023ec5-37af-4c98-a0f5-b6254f99f8bc",
   "metadata": {},
   "outputs": [],
   "source": [
    "counter = contract_from_raw_abi(evm, rawabi)"
   ]
  },
  {
   "cell_type": "markdown",
   "id": "c1a99d10-149a-46f4-aa6d-12617d4d74d4",
   "metadata": {},
   "source": [
    "Deploy the contract to the EVM. Returning the contract's address"
   ]
  },
  {
   "cell_type": "code",
   "execution_count": 4,
   "id": "779279d7-34cb-43c8-ac97-6baedacc5972",
   "metadata": {},
   "outputs": [
    {
     "name": "stdout",
     "output_type": "stream",
     "text": [
      "contract address: 0x6A786129D27071341f5A62b1F64c8316E8c96d7e\n"
     ]
    }
   ],
   "source": [
    "contract_address = counter.deploy(caller=deployer)\n",
    "print(f\"contract address: {contract_address}\")"
   ]
  },
  {
   "cell_type": "markdown",
   "id": "5727b56f-1902-46bc-8569-6ab2628b64c4",
   "metadata": {},
   "source": [
    "## Calling the contract.\n",
    "\n",
    "Simular will automagically add the smart contract functions from the ABI to the instance of the contract object as attributes.  For example, the counter contract we created has 2 methods: `increment` and `number`.  If you reference the attributes, i.e. `counter.increment`, you'll see this returns a *Function*.  To actually invoke the methods we need to append one of the following:\n",
    "- `transact(..)`:  this makes a **write** call to the contract, or\n",
    "- `call(..)`: this makes a **read** call to the contract.\n",
    "\n",
    "Both `transact` and `call` take arguments that are expected by the corresponding smart contract method.  If you get an error that says something like: *the arguments don't match the expected input...* that means you did not pass the correct input to the method as defined in the ABI.\n",
    "\n",
    "Let's call `number`.  This is a read-only method that take no input arguments and returns the current 'count' state in the contract.  "
   ]
  },
  {
   "cell_type": "code",
   "execution_count": 5,
   "id": "409820c1-3606-43a5-b3fa-9c213159724b",
   "metadata": {},
   "outputs": [
    {
     "name": "stdout",
     "output_type": "stream",
     "text": [
      "0\n"
     ]
    }
   ],
   "source": [
    "print(counter.number.call())"
   ]
  },
  {
   "cell_type": "markdown",
   "id": "ca90626d-eaa9-4564-97f6-a7f51e100317",
   "metadata": {},
   "source": [
    "Next we'll make some `transact` (write) calls to the contract using `increment`. Note, write calls use \n",
    "`transact` and at a minimum **require** the caller's address.  `caller` translates to `msg.sender` in the contract."
   ]
  },
  {
   "cell_type": "code",
   "execution_count": 6,
   "id": "a39b3ad8-9212-4f5a-b00d-bb7f1132851a",
   "metadata": {},
   "outputs": [],
   "source": [
    "for i in range(5):\n",
    "    counter.increment.transact(caller=deployer)"
   ]
  },
  {
   "cell_type": "markdown",
   "id": "b4daf923-c8a4-423b-b5d7-4e5fb2aeeb16",
   "metadata": {},
   "source": [
    "Let's check the value of number again..."
   ]
  },
  {
   "cell_type": "code",
   "execution_count": 7,
   "id": "cdd000be-f4c3-478b-bf0a-4c6ae88e4b02",
   "metadata": {},
   "outputs": [
    {
     "name": "stdout",
     "output_type": "stream",
     "text": [
      "5\n"
     ]
    }
   ],
   "source": [
    "print(counter.number.call())"
   ]
  }
 ],
 "metadata": {
  "kernelspec": {
   "display_name": "Python 3 (ipykernel)",
   "language": "python",
   "name": "python3"
  },
  "language_info": {
   "codemirror_mode": {
    "name": "ipython",
    "version": 3
   },
   "file_extension": ".py",
   "mimetype": "text/x-python",
   "name": "python",
   "nbconvert_exporter": "python",
   "pygments_lexer": "ipython3",
   "version": "3.11.4"
  }
 },
 "nbformat": 4,
 "nbformat_minor": 5
}
