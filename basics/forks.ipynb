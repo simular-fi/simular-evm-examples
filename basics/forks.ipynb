{
 "cells": [
  {
   "cell_type": "markdown",
   "id": "f468fdf7-cf45-452c-b25a-4a4186ffa934",
   "metadata": {},
   "source": [
    "# Using Forks\n",
    "\n",
    "Forks provide the ability to grab on-chain state and pull it into a local EVM. In this example, we'll show how to:\n",
    "- Pull information/state from the live USDC contract\n",
    "- Dump state to a file\n",
    "- Load the state into a local EVM\n",
    "- Pretend to be a given user and interact with the USDC contract\n",
    "\n",
    "You can learn more about the methods available on the USDC contract here: [Etherscan](https://etherscan.io/address/0xA0b86991c6218b36c1d19D4a2e9Eb0cE3606eB48#readProxyContract)\n",
    "\n",
    "See the `dump_usdc_state.py` script for an example of pulling and saving the state information. \n"
   ]
  },
  {
   "cell_type": "markdown",
   "id": "9f9bee3c-e406-4385-ace8-8ceefac859b4",
   "metadata": {},
   "source": [
    "## Setup\n",
    "Make the required imports"
   ]
  },
  {
   "cell_type": "code",
   "execution_count": 15,
   "id": "890bff99-23c5-49cb-bc0d-f3fb59b19a88",
   "metadata": {},
   "outputs": [],
   "source": [
    "from simular import (\n",
    "    PyEvm,\n",
    "    contract_from_inline_abi,\n",
    "    create_account,\n",
    ")"
   ]
  },
  {
   "cell_type": "markdown",
   "id": "6228f732-1f8f-4695-87ab-559ec7fa6956",
   "metadata": {},
   "source": [
    "Set the addresses we need to use"
   ]
  },
  {
   "cell_type": "code",
   "execution_count": 16,
   "id": "6f678faa-fdbb-4a77-ae68-4eabe724a55f",
   "metadata": {},
   "outputs": [],
   "source": [
    "# USDC Contract address\n",
    "USDC = \"0xA0b86991c6218b36c1d19D4a2e9Eb0cE3606eB48\"\n",
    "# Address of the real master minter from the on-chain contract\n",
    "MM = \"0xe982615d461dd5cd06575bbea87624fda4e3de17\"\n",
    "\n",
    "import json\n",
    "with open('./usdc_addresses.json') as f:\n",
    "    minters = json.loads(f.read())\n",
    "\n",
    "# Minters created in the dump script\n",
    "M1 = minters['m1']\n",
    "M2 = minters['m2']\n",
    "M3 = minters['m3']"
   ]
  },
  {
   "cell_type": "markdown",
   "id": "4a1ba57f-687b-4063-a634-3c8e4dc58387",
   "metadata": {},
   "source": [
    "Load the EVM state from file.  See `usdc_cache.json` in this directory.  \n",
    "You'll notice it includes the address above and the bytecode for 2 contracts used by USDC."
   ]
  },
  {
   "cell_type": "code",
   "execution_count": 17,
   "id": "756f4d3a-a620-4158-ab5d-edccfd25b7ff",
   "metadata": {},
   "outputs": [],
   "source": [
    "with open('./usdc_cache.json') as f:\n",
    "    cache = f.read()"
   ]
  },
  {
   "cell_type": "markdown",
   "id": "1bef7a41-9d05-434a-8001-f74745078303",
   "metadata": {},
   "source": [
    "Now create an EVM and load the state"
   ]
  },
  {
   "cell_type": "code",
   "execution_count": 18,
   "id": "16b59323-906d-4525-a3f0-e2a63cd99302",
   "metadata": {},
   "outputs": [],
   "source": [
    "evm = PyEvm.from_snapshot(cache)"
   ]
  },
  {
   "cell_type": "markdown",
   "id": "2825791d-cf2f-49e6-a4c4-9cfeb6b8cccb",
   "metadata": {},
   "source": [
    "To call USDC, we need a contract. We'll specify the methods we want to use.  They are\n",
    "part of the USDC contract."
   ]
  },
  {
   "cell_type": "code",
   "execution_count": 19,
   "id": "f443d2e5-baf7-4656-923c-18055e594c71",
   "metadata": {},
   "outputs": [],
   "source": [
    "contract_methods = [\n",
    "\"function isMinter(address) (bool)\",\n",
    "\"function totalSupply() (uint256)\",\n",
    "\"function mint(address, uint256) (bool)\",\n",
    "\"function burn(uint256)\",\n",
    "\"function minterAllowance(address) (uint256)\"]\n",
    "\n",
    "usdc = contract_from_inline_abi(evm, contract_methods)"
   ]
  },
  {
   "cell_type": "markdown",
   "id": "71f1ce12-6268-4ffa-9c36-1f05a904c562",
   "metadata": {},
   "source": [
    "We need to point `usdc` to the correct contract, which is the USDC contract"
   ]
  },
  {
   "cell_type": "code",
   "execution_count": 20,
   "id": "0f432904-0bdb-462a-8bd6-df4d6dfd3bb5",
   "metadata": {},
   "outputs": [
    {
     "data": {
      "text/plain": [
       "<simular.contract.Contract at 0x1094798d0>"
      ]
     },
     "execution_count": 20,
     "metadata": {},
     "output_type": "execute_result"
    }
   ],
   "source": [
    "usdc.at(USDC)"
   ]
  },
  {
   "cell_type": "markdown",
   "id": "f2c63760-3c79-433c-8f82-6f16962f5627",
   "metadata": {},
   "source": [
    "If you look at the `dump_usdc_state.py` script, you'll \n",
    "see we allocated the ability for each minter to mint 10000000. Let's check it..."
   ]
  },
  {
   "cell_type": "code",
   "execution_count": 21,
   "id": "020a4c99-0d59-4f6f-a966-4ce9b6c87c84",
   "metadata": {},
   "outputs": [],
   "source": [
    "assert 10000000 == usdc.minterAllowance.call(M1)"
   ]
  },
  {
   "cell_type": "markdown",
   "id": "6e831df4-3aba-4bdd-92b5-1bbbb50b1f5f",
   "metadata": {},
   "source": [
    "Let's verify the no one has minted any USDC yet..."
   ]
  },
  {
   "cell_type": "code",
   "execution_count": 22,
   "id": "e473d1c2-3838-4f18-95c7-9d8d3f25ade7",
   "metadata": {},
   "outputs": [],
   "source": [
    "assert 0 == usdc.totalSupply.call()"
   ]
  },
  {
   "cell_type": "markdown",
   "id": "cbfa133d-a3c8-426b-a875-0cd3f7285b5a",
   "metadata": {},
   "source": [
    "Let's mint some!"
   ]
  },
  {
   "cell_type": "code",
   "execution_count": 23,
   "id": "7908ddba-4984-4ed7-942d-5de7e8bdb329",
   "metadata": {},
   "outputs": [],
   "source": [
    "# each mints some to themselves\n",
    "assert usdc.mint.transact(M1, 10000000, caller=M1)\n",
    "assert usdc.mint.transact(M2, 10000000, caller=M2)\n",
    "assert usdc.mint.transact(M3, 10000000, caller=M3)"
   ]
  },
  {
   "cell_type": "code",
   "execution_count": 24,
   "id": "09826fff-21a5-4899-9b24-78539b48826c",
   "metadata": {},
   "outputs": [],
   "source": [
    "assert 30000000 == usdc.totalSupply.call()"
   ]
  },
  {
   "cell_type": "markdown",
   "id": "6c3f2a88-d8ba-417f-824c-a4b16ce3b72f",
   "metadata": {},
   "source": [
    "Just for the heck of it, let's see if bob can mint some..."
   ]
  },
  {
   "cell_type": "code",
   "execution_count": 25,
   "id": "f7972512-d1b1-47c9-9017-beb67a78d6e8",
   "metadata": {},
   "outputs": [
    {
     "name": "stdout",
     "output_type": "stream",
     "text": [
      "NOPE! Not allowed bob!\n"
     ]
    }
   ],
   "source": [
    "bob = create_account(evm)\n",
    "try: \n",
    "    usdc.mint.transact(bob, 50000000, caller=bob)\n",
    "except: \n",
    "    print(\"NOPE! Not allowed bob!\")"
   ]
  },
  {
   "cell_type": "code",
   "execution_count": 26,
   "id": "bac65e2f-e084-43f7-9a8a-fee5b1bdbf11",
   "metadata": {},
   "outputs": [],
   "source": [
    "assert 30000000 == usdc.totalSupply.call()"
   ]
  },
  {
   "cell_type": "markdown",
   "id": "43ff9eca-3d19-442f-92a5-57bdef76de5f",
   "metadata": {},
   "source": [
    "Now, lets' trying burning some..."
   ]
  },
  {
   "cell_type": "code",
   "execution_count": 27,
   "id": "87aa793c-7155-4eb4-a5bf-6f7cc7940254",
   "metadata": {},
   "outputs": [
    {
     "data": {
      "text/plain": [
       "[]"
      ]
     },
     "execution_count": 27,
     "metadata": {},
     "output_type": "execute_result"
    }
   ],
   "source": [
    "usdc.burn.transact(10000000, caller=M2)"
   ]
  },
  {
   "cell_type": "code",
   "execution_count": 28,
   "id": "2eb7e25e-0141-4eff-81d2-491e7580ae03",
   "metadata": {},
   "outputs": [],
   "source": [
    "assert 20000000 == usdc.totalSupply.call()"
   ]
  },
  {
   "cell_type": "markdown",
   "id": "2be5e2e7-0668-4498-a342-32d72ecb7a06",
   "metadata": {},
   "source": [
    "And that's it.  Here we showed pulling contract code and state from the on-chain USDC contract. "
   ]
  }
 ],
 "metadata": {
  "kernelspec": {
   "display_name": "Python 3 (ipykernel)",
   "language": "python",
   "name": "python3"
  },
  "language_info": {
   "codemirror_mode": {
    "name": "ipython",
    "version": 3
   },
   "file_extension": ".py",
   "mimetype": "text/x-python",
   "name": "python",
   "nbconvert_exporter": "python",
   "pygments_lexer": "ipython3",
   "version": "3.11.4"
  }
 },
 "nbformat": 4,
 "nbformat_minor": 5
}
