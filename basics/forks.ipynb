{
 "cells": [
  {
   "cell_type": "markdown",
   "id": "f468fdf7-cf45-452c-b25a-4a4186ffa934",
   "metadata": {},
   "source": [
    "# Using a Fork of on-chain state\n",
    "\n",
    "A fork is when we pull state from a live contract (or contracts) into the local EVM. To use forks, you need to have \n",
    "access to a Ethereum RPC node or RPC service such as [Alchemy](https://www.alchemy.com/) or Infura. Touching the \n",
    "contract will pull information into our local EVM where we can `snapshot` the state and save it for use later.\n",
    "\n",
    "At a minimum, a fork makes it easy to work with contracts that may have a complicated setup for deployment. Pulling a\n",
    "contract through a fork will grab all the associated libraries, proxy contracts, etc...\n",
    "\n",
    "See `gen_usdc_state.py` for the script used to generate the snapshot used in this example. \n",
    "\n",
    "**What we'll do:**\n",
    "- Load the snaphot `usdc_snapshot.json` created by the `gen_usdc_state.py` script\n",
    "- mint and burn some tokens on the USDC contract\n",
    "- Check the totalSupply\n",
    "  \n",
    "You can learn more about the methods available on the USDC contract here: [Etherscan](https://etherscan.io/address/0xA0b86991c6218b36c1d19D4a2e9Eb0cE3606eB48#readProxyContract)"
   ]
  },
  {
   "cell_type": "markdown",
   "id": "9f9bee3c-e406-4385-ace8-8ceefac859b4",
   "metadata": {},
   "source": [
    "## Setup\n",
    "\n",
    "First, we'll import the functionality we'll need from Simular, copy over some of the \n",
    "constants we need from the `gen_usdc_state.py` script, and load the snapshot."
   ]
  },
  {
   "cell_type": "code",
   "execution_count": 41,
   "id": "890bff99-23c5-49cb-bc0d-f3fb59b19a88",
   "metadata": {},
   "outputs": [],
   "source": [
    "from simular import (\n",
    "    PyEvm,\n",
    "    contract_from_inline_abi,\n",
    "    create_account,\n",
    ")\n",
    "\n",
    "# USDC master minters address on chain\n",
    "MM = \"0xe982615d461dd5cd06575bbea87624fda4e3de17\"\n",
    "\n",
    "# The minter we created in the snapshot\n",
    "MINTER = \"0x7ac8a704a0dafcc12fc54679b940fc17de02950a\"\n",
    "\n",
    "# minter allowance (how much USDC they're allowed to mint)\n",
    "# Remember USDC has 6 decimal places. So, 1e10 is 10,000 USDC\n",
    "MINTER_ALLOWANCE = int(1e10)\n",
    "\n",
    "# on-chain USDC contract address\n",
    "# https://etherscan.io/address/0xA0b86991c6218b36c1d19D4a2e9Eb0cE3606eB48\n",
    "USDC = \"0xA0b86991c6218b36c1d19D4a2e9Eb0cE3606eB48\"\n",
    "\n",
    "# load snapshot from file\n",
    "with open('./usdc_snapshot.json') as f:\n",
    "    snapshot = f.read()"
   ]
  },
  {
   "cell_type": "markdown",
   "id": "1bef7a41-9d05-434a-8001-f74745078303",
   "metadata": {},
   "source": [
    "Now create an EVM and load the state"
   ]
  },
  {
   "cell_type": "code",
   "execution_count": 42,
   "id": "16b59323-906d-4525-a3f0-e2a63cd99302",
   "metadata": {},
   "outputs": [],
   "source": [
    "evm = PyEvm.from_snapshot(snapshot)"
   ]
  },
  {
   "cell_type": "markdown",
   "id": "2825791d-cf2f-49e6-a4c4-9cfeb6b8cccb",
   "metadata": {},
   "source": [
    "To call USDC, we need a contract. We'll specify the methods we want to use.  They are\n",
    "part of the USDC contract."
   ]
  },
  {
   "cell_type": "code",
   "execution_count": 43,
   "id": "f443d2e5-baf7-4656-923c-18055e594c71",
   "metadata": {},
   "outputs": [],
   "source": [
    "contract_methods = [\n",
    "\"function isMinter(address) (bool)\",\n",
    "\"function totalSupply() (uint256)\",\n",
    "\"function mint(address, uint256) (bool)\",\n",
    "\"function burn(uint256)\",\n",
    "\"function transfer(address, uint256) (bool)\",\n",
    "\"function minterAllowance(address) (uint256)\",\n",
    "\"function balanceOf(address) (uint256)\"\n",
    "]\n",
    "\n",
    "usdc = contract_from_inline_abi(evm, contract_methods)"
   ]
  },
  {
   "cell_type": "markdown",
   "id": "71f1ce12-6268-4ffa-9c36-1f05a904c562",
   "metadata": {},
   "source": [
    "We need to point the `usdc` contract to the correct address - which is the USDC\n",
    "we forked."
   ]
  },
  {
   "cell_type": "code",
   "execution_count": 44,
   "id": "0f432904-0bdb-462a-8bd6-df4d6dfd3bb5",
   "metadata": {},
   "outputs": [
    {
     "data": {
      "text/plain": [
       "<simular.contract.Contract at 0x10be59d50>"
      ]
     },
     "execution_count": 44,
     "metadata": {},
     "output_type": "execute_result"
    }
   ],
   "source": [
    "usdc.at(USDC)"
   ]
  },
  {
   "cell_type": "markdown",
   "id": "f2c63760-3c79-433c-8f82-6f16962f5627",
   "metadata": {},
   "source": [
    "In the snapshot we provided the ability for our minter mint 10,000 USDC. Let's check it..."
   ]
  },
  {
   "cell_type": "code",
   "execution_count": 45,
   "id": "020a4c99-0d59-4f6f-a966-4ce9b6c87c84",
   "metadata": {},
   "outputs": [],
   "source": [
    "assert MINTER_ALLOWANCE == usdc.minterAllowance.call(MINTER)"
   ]
  },
  {
   "cell_type": "markdown",
   "id": "6e831df4-3aba-4bdd-92b5-1bbbb50b1f5f",
   "metadata": {},
   "source": [
    "Let's verify the no one has minted any USDC yet..."
   ]
  },
  {
   "cell_type": "code",
   "execution_count": 46,
   "id": "e473d1c2-3838-4f18-95c7-9d8d3f25ade7",
   "metadata": {},
   "outputs": [],
   "source": [
    "assert 0 == usdc.totalSupply.call()"
   ]
  },
  {
   "cell_type": "markdown",
   "id": "cbfa133d-a3c8-426b-a875-0cd3f7285b5a",
   "metadata": {},
   "source": [
    "Now, the minter will mint is allowance to himself."
   ]
  },
  {
   "cell_type": "code",
   "execution_count": 47,
   "id": "7908ddba-4984-4ed7-942d-5de7e8bdb329",
   "metadata": {},
   "outputs": [
    {
     "name": "stdout",
     "output_type": "stream",
     "text": [
      "Gas Used: 83036\n"
     ]
    }
   ],
   "source": [
    "# each mints \n",
    "tx1 = usdc.mint.transact(MINTER, MINTER_ALLOWANCE, caller=MINTER)\n",
    "print(f\"Gas Used: {tx1.gas_used}\")\n"
   ]
  },
  {
   "cell_type": "code",
   "execution_count": 48,
   "id": "09826fff-21a5-4899-9b24-78539b48826c",
   "metadata": {},
   "outputs": [],
   "source": [
    "assert MINTER_ALLOWANCE == usdc.totalSupply.call()"
   ]
  },
  {
   "cell_type": "markdown",
   "id": "6c3f2a88-d8ba-417f-824c-a4b16ce3b72f",
   "metadata": {},
   "source": [
    "Just for the heck of it, let's create another account (say Alice) and see if they \n",
    "can mint some tokens..."
   ]
  },
  {
   "cell_type": "code",
   "execution_count": 49,
   "id": "f7972512-d1b1-47c9-9017-beb67a78d6e8",
   "metadata": {},
   "outputs": [
    {
     "name": "stdout",
     "output_type": "stream",
     "text": [
      "NOPE! Not allowed alice!\n"
     ]
    }
   ],
   "source": [
    "alice = create_account(evm)\n",
    "try: \n",
    "    usdc.mint.transact(alice, int(1e6), caller=alice)    \n",
    "except: \n",
    "    print(\"NOPE! Not allowed alice!\")"
   ]
  },
  {
   "cell_type": "code",
   "execution_count": 50,
   "id": "bac65e2f-e084-43f7-9a8a-fee5b1bdbf11",
   "metadata": {},
   "outputs": [],
   "source": [
    "# confirm supply hasn't changed\n",
    "assert MINTER_ALLOWANCE == usdc.totalSupply.call()"
   ]
  },
  {
   "cell_type": "markdown",
   "id": "1eb893a4-8ff7-4c87-a511-2839ab799cc0",
   "metadata": {},
   "source": [
    "The MINTER transfers 100 USDC to alice"
   ]
  },
  {
   "cell_type": "code",
   "execution_count": 51,
   "id": "53de3a7e-1966-4c59-bd47-c6eeac50bd60",
   "metadata": {},
   "outputs": [
    {
     "data": {
      "text/plain": [
       "<TxResult at 0x10c726670>"
      ]
     },
     "execution_count": 51,
     "metadata": {},
     "output_type": "execute_result"
    }
   ],
   "source": [
    "usdc.transfer.transact(alice, int(100 * 10**6), caller=MINTER)"
   ]
  },
  {
   "cell_type": "markdown",
   "id": "43ff9eca-3d19-442f-92a5-57bdef76de5f",
   "metadata": {},
   "source": [
    "Let's check balances:"
   ]
  },
  {
   "cell_type": "code",
   "execution_count": 52,
   "id": "0fc1cdef-7629-4a9f-8a6e-3a1d02628b22",
   "metadata": {},
   "outputs": [],
   "source": [
    "alice_amount = 100 * 10**6\n",
    "assert usdc.balanceOf.call(alice) == alice_amount\n",
    "assert usdc.balanceOf.call(MINTER) == MINTER_ALLOWANCE - alice_amount\n",
    "assert MINTER_ALLOWANCE == usdc.totalSupply.call()"
   ]
  },
  {
   "cell_type": "markdown",
   "id": "533de13e-08cb-40f9-bdaf-862cfa73cf05",
   "metadata": {},
   "source": [
    "Finally, let burn 1000 USDC..."
   ]
  },
  {
   "cell_type": "code",
   "execution_count": 53,
   "id": "d637938c-ec6d-402a-9978-92817e2a247e",
   "metadata": {},
   "outputs": [],
   "source": [
    "burn_amount = 1000 * 10**6\n",
    "usdc.burn.transact(burn_amount, caller=MINTER)\n",
    "\n",
    "assert usdc.totalSupply.call() == MINTER_ALLOWANCE - burn_amount "
   ]
  },
  {
   "cell_type": "markdown",
   "id": "2be5e2e7-0668-4498-a342-32d72ecb7a06",
   "metadata": {},
   "source": [
    "And that's it.  Here we showed pulling contract code and state from the on-chain USDC contract, loading the snapshot, and interacting with the contract. "
   ]
  }
 ],
 "metadata": {
  "kernelspec": {
   "display_name": "Python 3 (ipykernel)",
   "language": "python",
   "name": "python3"
  },
  "language_info": {
   "codemirror_mode": {
    "name": "ipython",
    "version": 3
   },
   "file_extension": ".py",
   "mimetype": "text/x-python",
   "name": "python",
   "nbconvert_exporter": "python",
   "pygments_lexer": "ipython3",
   "version": "3.11.4"
  }
 },
 "nbformat": 4,
 "nbformat_minor": 5
}
